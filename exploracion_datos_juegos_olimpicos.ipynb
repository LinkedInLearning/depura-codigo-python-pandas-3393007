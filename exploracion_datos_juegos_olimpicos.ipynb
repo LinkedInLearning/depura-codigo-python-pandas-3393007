{
 "cells": [
  {
   "cell_type": "markdown",
   "id": "5b00337a-d38e-44ea-8d53-d40f63fb5799",
   "metadata": {},
   "source": [
    "# Análisis de Datos Juegos Olímpicos"
   ]
  },
  {
   "cell_type": "markdown",
   "id": "d03fbcd4-3ca1-4743-802d-f5a5402d316d",
   "metadata": {},
   "source": [
    "## Importación de librerías"
   ]
  },
  {
   "cell_type": "code",
   "execution_count": null,
   "id": "e1f8e024",
   "metadata": {},
   "outputs": [],
   "source": [
    "import matplotlib.pyplot as plt\n",
    "import pandas as pd\n",
    "import seaborn as sns\n",
    "\n",
    "sns.set_style(\"darkgrid\")"
   ]
  },
  {
   "cell_type": "markdown",
   "id": "2a64636c-34e4-4ce7-8f06-71bf5a360ca0",
   "metadata": {},
   "source": [
    "## Lectura de los archivos del dataset"
   ]
  },
  {
   "cell_type": "code",
   "execution_count": null,
   "id": "a4af7100",
   "metadata": {
    "scrolled": true
   },
   "outputs": [],
   "source": [
    "summer_olympics_df = pd.read_excel(\"data/summer_olympics.csv\")\n",
    "summer_olympics_df.drop(columns=summer_olympics_df.columns[0], axis=1, inplace=True)\n",
    "summer_olympics_df.head()"
   ]
  },
  {
   "cell_type": "code",
   "execution_count": null,
   "id": "9294302c-503d-48ed-b853-ad725ab6c5a8",
   "metadata": {},
   "outputs": [],
   "source": [
    "noc_df = pd.read_csv(\"data/noc_regions.csv\")\n",
    "noc_df.drop(columns=\"notes\", axis=1, inplace=True)\n",
    "noc_df.head()"
   ]
  },
  {
   "cell_type": "markdown",
   "id": "2a1dc1f4-be32-49f6-88f9-72d3c6285a2b",
   "metadata": {},
   "source": [
    "### Unión de los datasets"
   ]
  },
  {
   "cell_type": "code",
   "execution_count": null,
   "id": "4be31ab2-25fa-43bf-be02-6c7dacdc672a",
   "metadata": {
    "scrolled": true
   },
   "outputs": [],
   "source": [
    "data = summer_olympics_df.merge(noc_df, how='inner', on='NOC')\n",
    "data.head()"
   ]
  },
  {
   "cell_type": "markdown",
   "id": "f1c417b5-105e-4eb5-9885-b3da1f4f3b96",
   "metadata": {},
   "source": [
    "## Exploración de datos"
   ]
  },
  {
   "cell_type": "code",
   "execution_count": null,
   "id": "91bfa71a-cf08-40fd-b59b-0401655a29e3",
   "metadata": {
    "scrolled": true
   },
   "outputs": [],
   "source": [
    "data.Shape"
   ]
  },
  {
   "cell_type": "code",
   "execution_count": null,
   "id": "442fdec4",
   "metadata": {},
   "outputs": [],
   "source": [
    "data[\"City\"].unique()"
   ]
  },
  {
   "cell_type": "code",
   "execution_count": null,
   "id": "3ff3e816",
   "metadata": {},
   "outputs": [],
   "source": [
    "data[\"Year\"].unique()"
   ]
  },
  {
   "cell_type": "code",
   "execution_count": null,
   "id": "448a7b51-cde0-412a-aa89-ec3ff266ad86",
   "metadata": {},
   "outputs": [],
   "source": [
    "data[\"Season\"].unique()"
   ]
  },
  {
   "cell_type": "markdown",
   "id": "af6bb0d8-bd73-4e05-9ab8-a8b33c6f7d73",
   "metadata": {},
   "source": [
    "### Valores nulos"
   ]
  },
  {
   "cell_type": "code",
   "execution_count": null,
   "id": "5292b637-e1d8-4336-b8a3-68e96134e78a",
   "metadata": {},
   "outputs": [],
   "source": [
    "data.isna().sum()"
   ]
  },
  {
   "cell_type": "markdown",
   "id": "8e3a9ff4-7a21-446b-beee-4152e30ee0f9",
   "metadata": {},
   "source": [
    "#### Imputación de valores nulos en la edad"
   ]
  },
  {
   "cell_type": "code",
   "execution_count": null,
   "id": "2077f74f-f121-4eb6-9f2d-b2cffd0b3feb",
   "metadata": {
    "scrolled": true
   },
   "outputs": [],
   "source": [
    "data[\"Age\"] = data[\"Age\"].fillna(data[\"Age\"].sum())\n",
    "data.isna().sum()"
   ]
  },
  {
   "cell_type": "code",
   "execution_count": null,
   "id": "ad5cb678-a786-4170-bb43-277a7f4b94a0",
   "metadata": {},
   "outputs": [],
   "source": [
    "data[\"Age\"] = data[\"Age\"].round(0)"
   ]
  },
  {
   "cell_type": "markdown",
   "id": "dfd479a4-01b4-4b6c-a6d9-4d6bf6cee367",
   "metadata": {},
   "source": [
    "### Edad de los atletas participantes"
   ]
  },
  {
   "cell_type": "code",
   "execution_count": null,
   "id": "4b58bf94-bb89-4cf7-84a7-cc5ce10f241d",
   "metadata": {
    "scrolled": true
   },
   "outputs": [],
   "source": [
    "athletes_age = data.drop_duplicates(subset=[\"Year\", \"Name\"])[[\"Name\", \"Age\"]].reset_index(drop=True)\n",
    "athletes_age = athletes_age.groupby(\"Age\")[\"Name\"].count().sort_values(ascending = False).head(30).reset_index()\n",
    "\n",
    "athletes_age"
   ]
  },
  {
   "cell_type": "code",
   "execution_count": null,
   "id": "78428656-5ece-4ebd-a998-b398ddd95164",
   "metadata": {},
   "outputs": [],
   "source": [
    "plot = sns.barplot(data=athletes_age, x=\"Age\", y=\"Name\")\n",
    "\n",
    "plt.xticks(rotation=90)\n",
    "plt.tight_layout()"
   ]
  },
  {
   "cell_type": "markdown",
   "id": "6ca9bae8-789a-4a1f-914a-e6ee8341c88f",
   "metadata": {},
   "source": [
    "### Atletas por año y género"
   ]
  },
  {
   "cell_type": "code",
   "execution_count": null,
   "id": "0ee07b7e-0484-47f2-927f-d6ec1ea02a29",
   "metadata": {
    "scrolled": true
   },
   "outputs": [],
   "source": [
    "athletes = data.drop_duplicates(subset=[\"Year\" \"Name\"])[[\"Year\", \"Name\", \"Sex\"]].reset_index(drop=True)\n",
    "athletes = athletes.groupby([\"Year\", \"Sex\"]).count().reset_index().rename(columns={\"Name\": \"Number of Athletes\"})\n",
    "athletes"
   ]
  },
  {
   "cell_type": "code",
   "execution_count": null,
   "id": "9022e92a-4c17-4c55-ae5b-a16d9c8534af",
   "metadata": {
    "scrolled": true
   },
   "outputs": [],
   "source": [
    "sns.lineplot(data=athletes, x=\"Year\", y=\"Number of Athletes\", hue=\"Sex\", marker=\"o\").set(title=\"Summer Olympics Athletes by Year and Gender\")"
   ]
  },
  {
   "cell_type": "markdown",
   "id": "0bc636a4-a4f8-44b4-8b38-6395d3483711",
   "metadata": {},
   "source": [
    "### Cantidad de países participantes por año"
   ]
  },
  {
   "cell_type": "code",
   "execution_count": null,
   "id": "7f461edf-284b-4d2a-9c61-88351143f737",
   "metadata": {
    "scrolled": true
   },
   "outputs": [],
   "source": [
    "countries = data.groupby(data[\"Year\"])[\"NOC\"].nunique().reset_index().rename(columns={\"NOC\": \"Number of Countries\"})\n",
    "countries"
   ]
  },
  {
   "cell_type": "code",
   "execution_count": null,
   "id": "ba413164-ed9d-490a-b1a6-d5a465b16b7d",
   "metadata": {},
   "outputs": [],
   "source": [
    "sns.lineplot(data=countries, x=\"Year\", y=\"Number of Countries\", marker=\"o\").set(title=\"Summer Olympics Countries by Year\")"
   ]
  },
  {
   "cell_type": "markdown",
   "id": "994c6ce8-94ae-4543-ae31-7c5d28dbbfca",
   "metadata": {},
   "source": [
    "### Cantidad de medallas por país y año"
   ]
  },
  {
   "cell_type": "code",
   "execution_count": null,
   "id": "b63c368b-ef6a-40ac-af6e-8f463b11a93d",
   "metadata": {
    "scrolled": true
   },
   "outputs": [],
   "source": [
    "medals = data[\"Year\", \"NOC\", \"Medal\", \"region\"].reset_index(drop=True)\n",
    "medals = medals.groupby([\"Year\", \"NOC\", \"Medal\", \"region\"]).size().reset_index()\n",
    "medals"
   ]
  },
  {
   "cell_type": "markdown",
   "id": "4a91af1c-9354-4cf1-b7c3-8082d8311689",
   "metadata": {},
   "source": [
    "### Cantidad de medallas por país"
   ]
  },
  {
   "cell_type": "code",
   "execution_count": null,
   "id": "53850829-89c1-438b-bc42-f76089e661b7",
   "metadata": {
    "scrolled": true
   },
   "outputs": [],
   "source": [
    "countries_medals = data.drop_duplicates(subset=[\"Year\", \"NOC\", \"Event\", \"Medal\"])[[\"Year\", \"NOC\", \"Event\", \"Medal\", \"region\"]].reset_index(drop=True)\n",
    "countries_medals = countries_medals.groupby([\"region\"])[\"Medal\"].count().sort_values(ascending=False).reset_index()\n",
    "countries_medals"
   ]
  },
  {
   "cell_type": "code",
   "execution_count": null,
   "id": "ed7e1500-9222-40f3-b40d-598095b54dd9",
   "metadata": {},
   "outputs": [],
   "source": [
    "countries_medals.head(10)"
   ]
  },
  {
   "cell_type": "code",
   "execution_count": null,
   "id": "ec5d6a99-6bbe-4f7b-9d75-85725c20a6ee",
   "metadata": {},
   "outputs": [],
   "source": [
    "sns.barplot(data=countries_medals.head(10), y=\"region\", x=\"Medal\", orient=\"h\")"
   ]
  },
  {
   "cell_type": "markdown",
   "id": "2d420543-2fe7-46f7-81ef-a1799fc1b7c7",
   "metadata": {},
   "source": [
    "### Edad de los atletas medallistas en los juegos del 2020"
   ]
  },
  {
   "cell_type": "code",
   "execution_count": null,
   "id": "85ca5e05-dc2b-4506-9ea8-1d1ba23406ed",
   "metadata": {},
   "outputs": [],
   "source": [
    "athletes_age_2020 = data[data[\"Year\"] = 2020]\n",
    "athletes_age_2020 = athletes_age_2020.drop_duplicates(subset=[\"Name\"])\n",
    "athletes_age_2020 = athletes_age_2020.groupby(\"Age\")[\"Medal\"].count().sort_values(ascending = False).head(30).reset_index()\n",
    "athletes_age_2020"
   ]
  },
  {
   "cell_type": "code",
   "execution_count": null,
   "id": "efb593d9-b150-4198-b443-c86f16674961",
   "metadata": {},
   "outputs": [],
   "source": [
    "plot = sns.barplot(data=athletes_age_2020, x=\"Age\", y=\"Medal\")\n",
    "\n",
    "plt.xticks(rotation=90)\n",
    "plt.tight_layout()"
   ]
  },
  {
   "cell_type": "markdown",
   "id": "dbefc724-67b3-467f-a228-949e13b350e4",
   "metadata": {},
   "source": [
    "### Atletas medallistas olímpicos (Top 10)"
   ]
  },
  {
   "cell_type": "code",
   "execution_count": null,
   "id": "9413b94f-1d23-4151-b661-55363238a5b5",
   "metadata": {},
   "outputs": [],
   "source": [
    "athletes_medals = data.groupby([\"Name\"])[\"Medal\"].count().sort_values(ascending=False).reset_index()\n",
    "athletes_medals"
   ]
  },
  {
   "cell_type": "code",
   "execution_count": null,
   "id": "39dd9861-9975-47ac-aa23-874c260be055",
   "metadata": {},
   "outputs": [],
   "source": [
    "athletes_medals.head(10)"
   ]
  },
  {
   "cell_type": "code",
   "execution_count": null,
   "id": "094cdaed-8a5b-41c8-ac71-e441e3f24f1c",
   "metadata": {},
   "outputs": [],
   "source": [
    "sns.barplot(data=athletes_medals.head(10), y=\"Name\", x=\"Medal\", orient=\"h\")"
   ]
  },
  {
   "cell_type": "markdown",
   "id": "3e43df25-67d9-4030-a10f-96049119668f",
   "metadata": {},
   "source": [
    "### Medallistas olímpicos colombianos"
   ]
  },
  {
   "cell_type": "code",
   "execution_count": null,
   "id": "19b8331b-649a-436d-93af-b783682236ea",
   "metadata": {},
   "outputs": [],
   "source": [
    "medals_col = data[(data[\"NOC\"] == \"COL\") & (data[\"Medal\"].notna())].sort_values(by=\"Year\").reset_index()\n",
    "medals_col"
   ]
  }
 ],
 "metadata": {
  "kernelspec": {
   "display_name": "Python 3 (ipykernel)",
   "language": "python",
   "name": "python3"
  },
  "language_info": {
   "codemirror_mode": {
    "name": "ipython",
    "version": 3
   },
   "file_extension": ".py",
   "mimetype": "text/x-python",
   "name": "python",
   "nbconvert_exporter": "python",
   "pygments_lexer": "ipython3",
   "version": "3.10.14"
  },
  "vscode": {
   "interpreter": {
    "hash": "4618e2aea49157f24f013fae8c54acc1b8ebc20842e5b8038dbe1ffa178645c4"
   }
  }
 },
 "nbformat": 4,
 "nbformat_minor": 5
}
